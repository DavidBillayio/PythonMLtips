{
  "nbformat": 4,
  "nbformat_minor": 0,
  "metadata": {
    "colab": {
      "name": "Untitled0.ipynb",
      "provenance": [],
      "authorship_tag": "ABX9TyMpDx0+IfQNwLnpy2mcYeIY",
      "include_colab_link": true
    },
    "kernelspec": {
      "name": "python3",
      "display_name": "Python 3"
    }
  },
  "cells": [
    {
      "cell_type": "markdown",
      "metadata": {
        "id": "view-in-github",
        "colab_type": "text"
      },
      "source": [
        "<a href=\"https://colab.research.google.com/github/DavidBillayio/PythonMLtips/blob/master/RandomForestRegressor.ipynb\" target=\"_parent\"><img src=\"https://colab.research.google.com/assets/colab-badge.svg\" alt=\"Open In Colab\"/></a>"
      ]
    },
    {
      "cell_type": "markdown",
      "metadata": {
        "id": "vTS0N38Mk_Yf"
      },
      "source": [
        "For this example we seek to predict the sale prices in the test data set. You will notice that the training data has the sale prices listed for a number of homes and the test data is missing the sale prices. \n",
        "\n",
        "Your job is to use the following code to predict the sale prices of the test data homes."
      ]
    },
    {
      "cell_type": "code",
      "metadata": {
        "id": "_WNta5bZigPz"
      },
      "source": [
        "# A simple random forest regressor that is optimized for some parameters.\n",
        "\n",
        "# import the modules\n",
        "\n",
        "import pandas as pd\n",
        "from sklearn.model_selection import train_test_split\n",
        "from sklearn.ensemble import RandomForestRegressor\n",
        "from sklearn.metrics import mean_absolute_error\n",
        "print(\"modules imported\")"
      ],
      "execution_count": 1,
      "outputs": []
    },
    {
      "cell_type": "code",
      "metadata": {
        "id": "7RbY_4iaiyOs",
        "outputId": "5e17ed40-0178-4a94-d3a9-13ba83cd7f0b",
        "colab": {
          "base_uri": "https://localhost:8080/",
          "height": 119
        }
      },
      "source": [
        "#Read the data\n",
        "\n",
        "full_train_data = pd.read_csv('full_train_data.csv')\n",
        "test_data = pd.read_csv('test_data.csv')\n",
        "\n",
        "# Let's first look at the training data\n",
        "\n",
        "print(full_train_data.head())"
      ],
      "execution_count": 7,
      "outputs": [
        {
          "output_type": "stream",
          "text": [
            "   area  bedrooms  bathrooms lot facing  saleprice\n",
            "0  3836         2          2          N     398532\n",
            "1   248         4          1          S     289967\n",
            "2   496         2          1          E     236893\n",
            "3  2295         3          1          W     309548\n",
            "4   670         3          2          N     157009\n"
          ],
          "name": "stdout"
        }
      ]
    },
    {
      "cell_type": "code",
      "metadata": {
        "id": "vL7mFvtlnJ5k",
        "outputId": "b8203a78-e6b8-4918-8e30-8a4e3c989825",
        "colab": {
          "base_uri": "https://localhost:8080/",
          "height": 340
        }
      },
      "source": [
        "#Notice that the Lot facing is in North, South, East and West. This can be more effectively interpreted through a One Hot encoder.\n",
        "\n",
        "from sklearn.preprocessing import OneHotEncoder\n",
        "\n",
        "cols = ['lot facing']\n",
        "OH_encoder = OneHotEncoder(sparse = False)\n",
        "OH_train = OH_encoder.fit_transform(full_train_data[cols])\n",
        "\n",
        "\n",
        "#notice the new data columns added\n",
        "print(OH_train)\n"
      ],
      "execution_count": 32,
      "outputs": [
        {
          "output_type": "stream",
          "text": [
            "0      N\n",
            "1      S\n",
            "2      E\n",
            "3      W\n",
            "4      N\n",
            "      ..\n",
            "317    N\n",
            "318    S\n",
            "319    E\n",
            "320    W\n",
            "321    N\n",
            "Name: lot facing, Length: 322, dtype: object\n",
            "[[0. 1. 0. 0.]\n",
            " [0. 0. 1. 0.]\n",
            " [1. 0. 0. 0.]\n",
            " ...\n",
            " [1. 0. 0. 0.]\n",
            " [0. 0. 0. 1.]\n",
            " [0. 1. 0. 0.]]\n"
          ],
          "name": "stdout"
        }
      ]
    },
    {
      "cell_type": "code",
      "metadata": {
        "id": "1-fL0kGCrMaZ",
        "outputId": "5f01b32d-f7d9-4a4f-db29-36f83ae7753f",
        "colab": {
          "base_uri": "https://localhost:8080/",
          "height": 34
        }
      },
      "source": [
        "#But how do we know which is which?\n",
        "\n",
        "OH_encoder.categories_"
      ],
      "execution_count": 33,
      "outputs": [
        {
          "output_type": "execute_result",
          "data": {
            "text/plain": [
              "[array(['E', 'N', 'S', 'W'], dtype=object)]"
            ]
          },
          "metadata": {
            "tags": []
          },
          "execution_count": 33
        }
      ]
    },
    {
      "cell_type": "code",
      "metadata": {
        "id": "UqM-P1-rjgVi",
        "outputId": "fdcb411d-5fa3-4974-c270-5abaad91d98c",
        "colab": {
          "base_uri": "https://localhost:8080/",
          "height": 34
        }
      },
      "source": [
        "#Define the target and features we will be using to predict the sale price\n",
        "\n",
        "#define the target\n",
        "y = full_train_data.saleprice\n",
        "\n",
        "#define the features we are interested in using to predict\n",
        "features = ['area', 'bedrooms', 'bathrooms', 'lot facing']\n",
        "\n",
        "#define the input features in a new dataframe\n",
        "X = full_train_data[features].copy()"
      ],
      "execution_count": 21,
      "outputs": [
        {
          "output_type": "stream",
          "text": [
            "<class 'pandas.core.frame.DataFrame'>\n"
          ],
          "name": "stdout"
        }
      ]
    },
    {
      "cell_type": "code",
      "metadata": {
        "id": "QUsbIurYkqZW"
      },
      "source": [
        "#Separate our training and validation sets from the test data\n",
        "\n",
        "X_train, X_valid, y_train, y_valid = train_test_split(X,y, train_size = 0.8, test_size = 0.2, random_state = 0)"
      ],
      "execution_count": 23,
      "outputs": []
    },
    {
      "cell_type": "code",
      "metadata": {
        "id": "apOAD5QbmdZm"
      },
      "source": [
        "#We will want to try several models using various parameters to see which model will work best\n",
        "\n",
        "#Define several random forest regressors to compare.\n",
        "model_1 = RandomForestRegressor(n_estimators=50, random_state=0)\n",
        "model_2 = RandomForestRegressor(n_estimators=100, random_state=0)\n",
        "model_3 = RandomForestRegressor(n_estimators=100, criterion='mae', random_state=0)\n",
        "model_4 = RandomForestRegressor(n_estimators=200, min_samples_split=20, random_state=0)\n",
        "model_5 = RandomForestRegressor(n_estimators=100, max_depth=7, random_state=0)"
      ],
      "execution_count": null,
      "outputs": []
    }
  ]
}