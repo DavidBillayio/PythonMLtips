{
  "nbformat": 4,
  "nbformat_minor": 0,
  "metadata": {
    "colab": {
      "name": "RandomForestRegressor.ipynb",
      "provenance": [],
      "collapsed_sections": [],
      "authorship_tag": "ABX9TyPvOAyi2c9qpMSDke5Xgh/b",
      "include_colab_link": true
    },
    "kernelspec": {
      "name": "python3",
      "display_name": "Python 3"
    }
  },
  "cells": [
    {
      "cell_type": "markdown",
      "metadata": {
        "id": "view-in-github",
        "colab_type": "text"
      },
      "source": [
        "<a href=\"https://colab.research.google.com/github/DavidBillayio/PythonMLtips/blob/master/RandomForestRegressor.ipynb\" target=\"_parent\"><img src=\"https://colab.research.google.com/assets/colab-badge.svg\" alt=\"Open In Colab\"/></a>"
      ]
    },
    {
      "cell_type": "markdown",
      "metadata": {
        "id": "vTS0N38Mk_Yf"
      },
      "source": [
        "For this example we seek to predict the sale prices in the test data set. You will notice that the training data has the sale prices listed for a number of homes and the test data is missing the sale prices. \n",
        "\n",
        "Your job is to use the following code to predict the sale prices of the test data homes."
      ]
    },
    {
      "cell_type": "code",
      "metadata": {
        "id": "_WNta5bZigPz",
        "outputId": "568d80ea-3fa6-4721-9204-ff5d317624e3",
        "colab": {
          "base_uri": "https://localhost:8080/",
          "height": 34
        }
      },
      "source": [
        "# A simple random forest regressor that is optimized for some parameters.\n",
        "\n",
        "# import the modules\n",
        "\n",
        "import pandas as pd\n",
        "from sklearn.model_selection import train_test_split\n",
        "from sklearn.ensemble import RandomForestRegressor\n",
        "from sklearn.metrics import mean_absolute_error\n",
        "print(\"modules imported\")"
      ],
      "execution_count": 133,
      "outputs": [
        {
          "output_type": "stream",
          "text": [
            "modules imported\n"
          ],
          "name": "stdout"
        }
      ]
    },
    {
      "cell_type": "code",
      "metadata": {
        "id": "7RbY_4iaiyOs",
        "outputId": "8d1264fb-80c2-4ebc-9a0a-d04d25ddd781",
        "colab": {
          "base_uri": "https://localhost:8080/",
          "height": 119
        }
      },
      "source": [
        "#Read the data\n",
        "\n",
        "full_train_data = pd.read_csv('full_train_data.csv')\n",
        "test_data = pd.read_csv('test_data.csv')\n",
        "\n",
        "# Let's first look at the training data\n",
        "print(full_train_data.head())"
      ],
      "execution_count": 134,
      "outputs": [
        {
          "output_type": "stream",
          "text": [
            "   area  bedrooms  bathrooms lot facing  saleprice\n",
            "0  3836         2          2          N     398532\n",
            "1   248         4          1          S     289967\n",
            "2   496         2          1          E     236893\n",
            "3  2295         3          1          W     309548\n",
            "4   670         3          2          N     157009\n"
          ],
          "name": "stdout"
        }
      ]
    },
    {
      "cell_type": "code",
      "metadata": {
        "id": "vL7mFvtlnJ5k",
        "outputId": "7bcab2fa-a643-48be-8f12-4c80f743122b",
        "colab": {
          "base_uri": "https://localhost:8080/",
          "height": 255
        }
      },
      "source": [
        "#Notice that the Lot facing is in North, South, East and West. This can be more effectively interpreted through a One Hot encoder.\n",
        "\n",
        "#first, and most importantly, we make a copy to avoid changing the original data\n",
        "X_train = full_train_data.copy()\n",
        "\n",
        "#import OneHot Encoder\n",
        "from sklearn.preprocessing import OneHotEncoder\n",
        "\n",
        "cols = ['lot facing']\n",
        "OH_encoder = OneHotEncoder(sparse = False)\n",
        "OH_train = pd.DataFrame(OH_encoder.fit_transform(X_train[cols]))\n",
        "#notice the new data columns\n",
        "print(OH_train)"
      ],
      "execution_count": 135,
      "outputs": [
        {
          "output_type": "stream",
          "text": [
            "       0    1    2    3\n",
            "0    0.0  1.0  0.0  0.0\n",
            "1    0.0  0.0  1.0  0.0\n",
            "2    1.0  0.0  0.0  0.0\n",
            "3    0.0  0.0  0.0  1.0\n",
            "4    0.0  1.0  0.0  0.0\n",
            "..   ...  ...  ...  ...\n",
            "317  0.0  1.0  0.0  0.0\n",
            "318  0.0  0.0  1.0  0.0\n",
            "319  1.0  0.0  0.0  0.0\n",
            "320  0.0  0.0  0.0  1.0\n",
            "321  0.0  1.0  0.0  0.0\n",
            "\n",
            "[322 rows x 4 columns]\n"
          ],
          "name": "stdout"
        }
      ]
    },
    {
      "cell_type": "code",
      "metadata": {
        "id": "1-fL0kGCrMaZ",
        "outputId": "8ee24141-56ec-442b-c53e-273bba1067bc",
        "colab": {
          "base_uri": "https://localhost:8080/",
          "height": 34
        }
      },
      "source": [
        "#But how do we know which is which? By:\n",
        "OH_encoder.categories_"
      ],
      "execution_count": 136,
      "outputs": [
        {
          "output_type": "execute_result",
          "data": {
            "text/plain": [
              "[array(['E', 'N', 'S', 'W'], dtype=object)]"
            ]
          },
          "metadata": {
            "tags": []
          },
          "execution_count": 136
        }
      ]
    },
    {
      "cell_type": "code",
      "metadata": {
        "id": "Zj-ShHj0rs1H",
        "outputId": "b8877725-95d9-4871-8c20-6d127364d541",
        "colab": {
          "base_uri": "https://localhost:8080/",
          "height": 663
        }
      },
      "source": [
        "#So we create the new column headings for the One Hot Encoded columns\n",
        "OH_train.columns =['E', 'N', 'S', 'W']\n",
        "\n",
        "\n",
        "#just to double check:\n",
        "print(OH_train)\n",
        "print(X_train)\n",
        "print(X_train['lot facing'].value_counts())\n",
        "OH_train.sum()"
      ],
      "execution_count": 137,
      "outputs": [
        {
          "output_type": "stream",
          "text": [
            "       E    N    S    W\n",
            "0    0.0  1.0  0.0  0.0\n",
            "1    0.0  0.0  1.0  0.0\n",
            "2    1.0  0.0  0.0  0.0\n",
            "3    0.0  0.0  0.0  1.0\n",
            "4    0.0  1.0  0.0  0.0\n",
            "..   ...  ...  ...  ...\n",
            "317  0.0  1.0  0.0  0.0\n",
            "318  0.0  0.0  1.0  0.0\n",
            "319  1.0  0.0  0.0  0.0\n",
            "320  0.0  0.0  0.0  1.0\n",
            "321  0.0  1.0  0.0  0.0\n",
            "\n",
            "[322 rows x 4 columns]\n",
            "     area  bedrooms  bathrooms lot facing  saleprice\n",
            "0    3836         2          2          N     398532\n",
            "1     248         4          1          S     289967\n",
            "2     496         2          1          E     236893\n",
            "3    2295         3          1          W     309548\n",
            "4     670         3          2          N     157009\n",
            "..    ...       ...        ...        ...        ...\n",
            "317   459         2          0          N      67727\n",
            "318  2890         3          1          S     184754\n",
            "319  1592         0          0          E      30912\n",
            "320  2852         4          3          W     340008\n",
            "321  1546         1          1          N     209936\n",
            "\n",
            "[322 rows x 5 columns]\n",
            "N    82\n",
            "S    80\n",
            "W    80\n",
            "E    80\n",
            "Name: lot facing, dtype: int64\n"
          ],
          "name": "stdout"
        },
        {
          "output_type": "execute_result",
          "data": {
            "text/plain": [
              "E    80.0\n",
              "N    82.0\n",
              "S    80.0\n",
              "W    80.0\n",
              "dtype: float64"
            ]
          },
          "metadata": {
            "tags": []
          },
          "execution_count": 137
        }
      ]
    },
    {
      "cell_type": "code",
      "metadata": {
        "id": "vAL9UGsv0CcA",
        "outputId": "3b339abe-28f4-4f9b-f9ef-11fae6688f7a",
        "colab": {
          "base_uri": "https://localhost:8080/",
          "height": 221
        }
      },
      "source": [
        "#at a high level it checks out.\n",
        "# We must now add the OH values to the dataframe\n",
        "\n",
        "OH_X_train = pd.concat([X_train,OH_train], axis = 1)\n",
        "print(OH_X_train.head())"
      ],
      "execution_count": 141,
      "outputs": [
        {
          "output_type": "stream",
          "text": [
            "   area  bedrooms  bathrooms lot facing  saleprice    E    N    S    W\n",
            "0  3836         2          2          N     398532  0.0  1.0  0.0  0.0\n",
            "1   248         4          1          S     289967  0.0  0.0  1.0  0.0\n",
            "2   496         2          1          E     236893  1.0  0.0  0.0  0.0\n",
            "3  2295         3          1          W     309548  0.0  0.0  0.0  1.0\n",
            "4   670         3          2          N     157009  0.0  1.0  0.0  0.0\n",
            "   area  bedrooms  bathrooms lot facing  saleprice    E    N    S    W\n",
            "0  3836         2          2          N     398532  0.0  1.0  0.0  0.0\n",
            "1   248         4          1          S     289967  0.0  0.0  1.0  0.0\n",
            "2   496         2          1          E     236893  1.0  0.0  0.0  0.0\n",
            "3  2295         3          1          W     309548  0.0  0.0  0.0  1.0\n",
            "4   670         3          2          N     157009  0.0  1.0  0.0  0.0\n"
          ],
          "name": "stdout"
        }
      ]
    },
    {
      "cell_type": "code",
      "metadata": {
        "id": "_AAlUWEY98pr"
      },
      "source": [
        "#that was a lot of work, let's use something easier for the same result.\n",
        "\n",
        "# We will re-copy our data for the second try\n",
        "\n",
        "X_train2 = full_train_data.copy()"
      ],
      "execution_count": 142,
      "outputs": []
    },
    {
      "cell_type": "code",
      "metadata": {
        "id": "sWPJ12kM3bJr",
        "outputId": "b98baf35-7e8b-4cb0-8438-158075b5d99e",
        "colab": {
          "base_uri": "https://localhost:8080/",
          "height": 255
        }
      },
      "source": [
        "\n",
        "from sklearn.compose import ColumnTransformer\n",
        "\n",
        "transformer = ColumnTransformer(\n",
        "    transformers=[\n",
        "        ('lot facing',        # Just a name\n",
        "         OneHotEncoder(), # The transformer class\n",
        "         [3]            # The column(s) to be applied on.\n",
        "         )\n",
        "    ], remainder='passthrough'\n",
        ")\n",
        "OH_X_train2 = pd.DataFrame(transformer.fit_transform(X_train2))\n",
        "OH_X_train2.columns =['E', 'N', 'S', 'W', 'area', 'bedrooms', 'bathrooms', 'saleprice']\n",
        "print(OH_X_train2)"
      ],
      "execution_count": 143,
      "outputs": [
        {
          "output_type": "stream",
          "text": [
            "       E    N    S    W    area  bedrooms  bathrooms  saleprice\n",
            "0    0.0  1.0  0.0  0.0  3836.0       2.0        2.0   398532.0\n",
            "1    0.0  0.0  1.0  0.0   248.0       4.0        1.0   289967.0\n",
            "2    1.0  0.0  0.0  0.0   496.0       2.0        1.0   236893.0\n",
            "3    0.0  0.0  0.0  1.0  2295.0       3.0        1.0   309548.0\n",
            "4    0.0  1.0  0.0  0.0   670.0       3.0        2.0   157009.0\n",
            "..   ...  ...  ...  ...     ...       ...        ...        ...\n",
            "317  0.0  1.0  0.0  0.0   459.0       2.0        0.0    67727.0\n",
            "318  0.0  0.0  1.0  0.0  2890.0       3.0        1.0   184754.0\n",
            "319  1.0  0.0  0.0  0.0  1592.0       0.0        0.0    30912.0\n",
            "320  0.0  0.0  0.0  1.0  2852.0       4.0        3.0   340008.0\n",
            "321  0.0  1.0  0.0  0.0  1546.0       1.0        1.0   209936.0\n",
            "\n",
            "[322 rows x 8 columns]\n"
          ],
          "name": "stdout"
        }
      ]
    },
    {
      "cell_type": "code",
      "metadata": {
        "id": "GWKGOU9V4MKs"
      },
      "source": [
        "#that was much easier. We continue."
      ],
      "execution_count": null,
      "outputs": []
    },
    {
      "cell_type": "code",
      "metadata": {
        "id": "UqM-P1-rjgVi",
        "outputId": "d00b4c9a-fc85-4189-b9e6-d15de8d5daa8",
        "colab": {
          "base_uri": "https://localhost:8080/",
          "height": 255
        }
      },
      "source": [
        "#Next, we define the target and features we will be using to predict the sale price\n",
        "\n",
        "#define the target\n",
        "y = OH_X_train2.saleprice\n",
        "\n",
        "#define the features we are interested in using to predict\n",
        "features = ['area', 'bedrooms', 'bathrooms', 'N', 'S', 'E', 'W']\n",
        "\n",
        "#define the input features in a new dataframe\n",
        "X = OH_X_train2[features].copy()\n",
        "print(X)"
      ],
      "execution_count": 160,
      "outputs": [
        {
          "output_type": "stream",
          "text": [
            "       area  bedrooms  bathrooms    N    S    E    W\n",
            "0    3836.0       2.0        2.0  1.0  0.0  0.0  0.0\n",
            "1     248.0       4.0        1.0  0.0  1.0  0.0  0.0\n",
            "2     496.0       2.0        1.0  0.0  0.0  1.0  0.0\n",
            "3    2295.0       3.0        1.0  0.0  0.0  0.0  1.0\n",
            "4     670.0       3.0        2.0  1.0  0.0  0.0  0.0\n",
            "..      ...       ...        ...  ...  ...  ...  ...\n",
            "317   459.0       2.0        0.0  1.0  0.0  0.0  0.0\n",
            "318  2890.0       3.0        1.0  0.0  1.0  0.0  0.0\n",
            "319  1592.0       0.0        0.0  0.0  0.0  1.0  0.0\n",
            "320  2852.0       4.0        3.0  0.0  0.0  0.0  1.0\n",
            "321  1546.0       1.0        1.0  1.0  0.0  0.0  0.0\n",
            "\n",
            "[322 rows x 7 columns]\n"
          ],
          "name": "stdout"
        }
      ]
    },
    {
      "cell_type": "code",
      "metadata": {
        "id": "QUsbIurYkqZW",
        "outputId": "70ef06c2-0e8c-4d01-e7a7-c6a77d40ff81",
        "colab": {
          "base_uri": "https://localhost:8080/",
          "height": 850
        }
      },
      "source": [
        "#Separate our training and validation sets from the test data\n",
        "\n",
        "X_train, X_valid, y_train, y_valid = train_test_split(X,y, train_size = 0.8, test_size = 0.2, random_state = 0)\n",
        "print(X_train, X_valid, y_train, y_valid)"
      ],
      "execution_count": 162,
      "outputs": [
        {
          "output_type": "stream",
          "text": [
            "       area  bedrooms  bathrooms    N    S    E    W\n",
            "173  2102.0       1.0        1.0  1.0  0.0  0.0  0.0\n",
            "253   221.0       3.0        2.0  1.0  0.0  0.0  0.0\n",
            "220  2743.0       1.0        0.0  0.0  0.0  0.0  1.0\n",
            "196  3056.0       4.0        0.0  0.0  0.0  0.0  1.0\n",
            "5    3384.0       2.0        3.0  0.0  1.0  0.0  0.0\n",
            "..      ...       ...        ...  ...  ...  ...  ...\n",
            "251  1606.0       3.0        2.0  0.0  0.0  1.0  0.0\n",
            "192   853.0       2.0        1.0  0.0  0.0  0.0  1.0\n",
            "117  2943.0       4.0        0.0  1.0  0.0  0.0  0.0\n",
            "47   1724.0       4.0        1.0  0.0  0.0  1.0  0.0\n",
            "172  1116.0       3.0        2.0  0.0  0.0  0.0  1.0\n",
            "\n",
            "[257 rows x 7 columns]        area  bedrooms  bathrooms    N    S    E    W\n",
            "293  3870.0       1.0        0.0  1.0  0.0  0.0  0.0\n",
            "65   3599.0       1.0        1.0  1.0  0.0  0.0  0.0\n",
            "15   1524.0       1.0        2.0  0.0  0.0  0.0  1.0\n",
            "272   512.0       3.0        2.0  0.0  0.0  0.0  1.0\n",
            "140   752.0       3.0        1.0  0.0  0.0  0.0  1.0\n",
            "..      ...       ...        ...  ...  ...  ...  ...\n",
            "17    562.0       1.0        3.0  1.0  0.0  0.0  0.0\n",
            "1     248.0       4.0        1.0  0.0  1.0  0.0  0.0\n",
            "74   2563.0       2.0        0.0  0.0  1.0  0.0  0.0\n",
            "8    3701.0       1.0        3.0  1.0  0.0  0.0  0.0\n",
            "209  2027.0       2.0        3.0  1.0  0.0  0.0  0.0\n",
            "\n",
            "[65 rows x 7 columns] 173    238751.0\n",
            "253    298216.0\n",
            "220    376344.0\n",
            "196     52955.0\n",
            "5       63892.0\n",
            "         ...   \n",
            "251    334928.0\n",
            "192    318575.0\n",
            "117    227630.0\n",
            "47     103455.0\n",
            "172    149662.0\n",
            "Name: saleprice, Length: 257, dtype: float64 293     11057.0\n",
            "65     351112.0\n",
            "15      45058.0\n",
            "272     96692.0\n",
            "140     24010.0\n",
            "         ...   \n",
            "17     225918.0\n",
            "1      289967.0\n",
            "74     173699.0\n",
            "8      229456.0\n",
            "209    379870.0\n",
            "Name: saleprice, Length: 65, dtype: float64\n"
          ],
          "name": "stdout"
        }
      ]
    },
    {
      "cell_type": "code",
      "metadata": {
        "id": "apOAD5QbmdZm",
        "outputId": "658d93d9-ffaa-4578-b22a-d8cd9fbf6f60",
        "colab": {
          "base_uri": "https://localhost:8080/",
          "height": 34
        }
      },
      "source": [
        "#We will want to try several models using various parameters to see which model will work best\n",
        "\n",
        "#Define several random forest regressors to compare.\n",
        "model_1 = RandomForestRegressor(n_estimators=50, random_state=0)\n",
        "model_2 = RandomForestRegressor(n_estimators=100, random_state=0)\n",
        "model_3 = RandomForestRegressor(n_estimators=100, criterion='mae', random_state=0)\n",
        "model_4 = RandomForestRegressor(n_estimators=200, min_samples_split=20, random_state=0)\n",
        "model_5 = RandomForestRegressor(n_estimators=10000, max_depth=4, random_state=0)\n",
        "\n",
        "models = [model_1, model_2, model_3, model_4, model_5]\n",
        "print('models loaded')"
      ],
      "execution_count": 168,
      "outputs": [
        {
          "output_type": "stream",
          "text": [
            "models loaded\n"
          ],
          "name": "stdout"
        }
      ]
    },
    {
      "cell_type": "code",
      "metadata": {
        "id": "fdr3wif3-r1T"
      },
      "source": [
        "# next we will define a function to score each model\n",
        "\n",
        "def score_model(model, Xt, Xv, Yt, Yv):\n",
        "  \"\"\"takes in the model, the training and validation data and returns the mean absolute error\"\"\"\n",
        "  model.fit(Xt,Yt)\n",
        "  prediction = model.predict(Xv)\n",
        "  return mean_absolute_error(Yv, prediction)"
      ],
      "execution_count": 157,
      "outputs": []
    },
    {
      "cell_type": "code",
      "metadata": {
        "id": "BbBdfh12_SZB",
        "outputId": "bc4a8e7e-8a93-494e-b496-baa06ea087dd",
        "colab": {
          "base_uri": "https://localhost:8080/",
          "height": 102
        }
      },
      "source": [
        "for i in range(0,len(models)):\n",
        "  mae = score_model(models[i],X_train, X_valid, y_train, y_valid)\n",
        "  print(\"Model {} MAE: {}\".format(i+1, mae))"
      ],
      "execution_count": 170,
      "outputs": [
        {
          "output_type": "stream",
          "text": [
            "Model 1 MAE: 100597.60312820513\n",
            "Model 2 MAE: 101180.13264102564\n",
            "Model 3 MAE: 103688.85830769231\n",
            "Model 4 MAE: 101713.16456757826\n",
            "Model 5 MAE: 99861.66121613492\n"
          ],
          "name": "stdout"
        }
      ]
    },
    {
      "cell_type": "markdown",
      "metadata": {
        "id": "IxlzyOV2BQ1W"
      },
      "source": [
        "#Is the error good? It doesn't look like it, but we will take the model with the lowest error. What are the issues with this?\n",
        "\n",
        "After all of that, where we doing again? That's right, predicting the test values."
      ]
    },
    {
      "cell_type": "code",
      "metadata": {
        "id": "216V1R4ABq-D",
        "outputId": "087d2bd7-4b5e-465c-a564-d0af9dc49a8b",
        "colab": {
          "base_uri": "https://localhost:8080/",
          "height": 867
        }
      },
      "source": [
        "#What do we need to do first?\n",
        "\n",
        "#that's right\n",
        "OH_test = pd.DataFrame(transformer.fit_transform(test_data))\n",
        "OH_test.columns =['E', 'N', 'S', 'W', 'area', 'bedrooms', 'bathrooms']\n",
        "print(OH_test)"
      ],
      "execution_count": 172,
      "outputs": [
        {
          "output_type": "stream",
          "text": [
            "      E    N    S    W    area  bedrooms  bathrooms\n",
            "0   0.0  1.0  0.0  0.0  2811.0       2.0        0.0\n",
            "1   0.0  0.0  1.0  0.0  1457.0       1.0        3.0\n",
            "2   1.0  0.0  0.0  0.0  2152.0       3.0        0.0\n",
            "3   0.0  0.0  0.0  1.0  1552.0       3.0        3.0\n",
            "4   0.0  1.0  0.0  0.0  1940.0       2.0        4.0\n",
            "5   0.0  0.0  1.0  0.0  1116.0       2.0        0.0\n",
            "6   1.0  0.0  0.0  0.0   127.0       2.0        3.0\n",
            "7   0.0  0.0  0.0  1.0  1615.0       0.0        0.0\n",
            "8   0.0  1.0  0.0  0.0   337.0       2.0        0.0\n",
            "9   0.0  0.0  1.0  0.0  1006.0       4.0        4.0\n",
            "10  1.0  0.0  0.0  0.0  3106.0       2.0        2.0\n",
            "11  0.0  0.0  0.0  1.0  1402.0       2.0        1.0\n",
            "12  0.0  1.0  0.0  0.0  1263.0       4.0        2.0\n",
            "13  0.0  0.0  1.0  0.0  3204.0       4.0        3.0\n",
            "14  1.0  0.0  0.0  0.0  3949.0       2.0        2.0\n",
            "15  0.0  0.0  0.0  1.0  1621.0       1.0        1.0\n",
            "16  0.0  1.0  0.0  0.0  3971.0       0.0        1.0\n",
            "17  0.0  1.0  0.0  0.0  3151.0       3.0        2.0\n",
            "18  0.0  0.0  1.0  0.0  1650.0       1.0        2.0\n",
            "19  1.0  0.0  0.0  0.0  3477.0       1.0        4.0\n",
            "20  0.0  0.0  0.0  1.0  2708.0       1.0        3.0\n",
            "21  0.0  1.0  0.0  0.0  2152.0       2.0        1.0\n",
            "22  0.0  0.0  1.0  0.0    66.0       4.0        1.0\n",
            "23  1.0  0.0  0.0  0.0   531.0       1.0        1.0\n",
            "24  0.0  0.0  0.0  1.0  3070.0       1.0        2.0\n",
            "25  0.0  1.0  0.0  0.0  3500.0       3.0        1.0\n",
            "26  0.0  0.0  1.0  0.0   694.0       1.0        1.0\n",
            "27  1.0  0.0  0.0  0.0   575.0       3.0        3.0\n",
            "28  0.0  0.0  0.0  1.0  1158.0       0.0        1.0\n",
            "29  0.0  1.0  0.0  0.0  3042.0       4.0        3.0\n",
            "30  0.0  0.0  1.0  0.0   227.0       3.0        4.0\n",
            "31  1.0  0.0  0.0  0.0   965.0       1.0        3.0\n",
            "32  0.0  0.0  0.0  1.0  1349.0       4.0        1.0\n",
            "33  0.0  1.0  0.0  0.0  1120.0       4.0        2.0\n",
            "34  0.0  0.0  1.0  0.0  3741.0       3.0        3.0\n",
            "35  1.0  0.0  0.0  0.0   803.0       4.0        3.0\n",
            "36  0.0  0.0  0.0  1.0  3677.0       4.0        1.0\n",
            "37  0.0  1.0  0.0  0.0  3115.0       2.0        3.0\n",
            "38  0.0  0.0  1.0  0.0  1789.0       4.0        1.0\n",
            "39  1.0  0.0  0.0  0.0  3511.0       2.0        4.0\n",
            "40  0.0  0.0  0.0  1.0   841.0       1.0        2.0\n",
            "41  0.0  1.0  0.0  0.0  1718.0       0.0        2.0\n",
            "42  0.0  0.0  1.0  0.0  3532.0       4.0        4.0\n",
            "43  1.0  0.0  0.0  0.0  1305.0       4.0        1.0\n",
            "44  0.0  0.0  0.0  1.0  1264.0       3.0        3.0\n",
            "45  0.0  1.0  0.0  0.0  1289.0       3.0        3.0\n",
            "46  0.0  0.0  1.0  0.0  2625.0       0.0        3.0\n",
            "47  1.0  0.0  0.0  0.0  1634.0       0.0        1.0\n",
            "48  0.0  0.0  0.0  1.0  1466.0       3.0        4.0\n"
          ],
          "name": "stdout"
        }
      ]
    },
    {
      "cell_type": "code",
      "metadata": {
        "id": "ZGNdrCkCBQEQ"
      },
      "source": [
        "#initiate chosen model\n",
        "chosen_model = model_5\n",
        "\n",
        "chosen_model.fit(X,y)\n",
        "prediction_test = chosen_model.predict(OH_test)\n",
        "output_data = pd.DataFrame({'sale price' : prediction_test})\n",
        "output = pd.concat([test_data,output_data], axis = 1)\n",
        "output.to_csv('submission.csv', index=False)"
      ],
      "execution_count": 176,
      "outputs": []
    }
  ]
}